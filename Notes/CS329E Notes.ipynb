{
 "cells": [
  {
   "cell_type": "markdown",
   "metadata": {},
   "source": [
    "# CS329E Notes"
   ]
  },
  {
   "cell_type": "markdown",
   "metadata": {},
   "source": [
    "### Factorial"
   ]
  },
  {
   "cell_type": "code",
   "execution_count": 5,
   "metadata": {},
   "outputs": [
    {
     "name": "stdout",
     "output_type": "stream",
     "text": [
      "Input number: 4\n",
      "24\n",
      "Input number: a\n"
     ]
    }
   ],
   "source": [
    "import sys\n",
    "\n",
    "def factorial(n):\n",
    "    if n == 0:\n",
    "        return(1)\n",
    "    else:\n",
    "        return(n*factorial(n-1))\n",
    "\n",
    "# def factorial_tail_recursion(n):\n",
    "#     assert n >= 0\n",
    "#     def f(n,v):\n",
    "#         if\n",
    "\n",
    "def factorial_range_reduce(n):\n",
    "    assert n>= 0\n",
    "    # take binary operator,\n",
    "    return reduce(mul, range(1, n+1), 1)\n",
    "\n",
    "def main():\n",
    "    while(True):\n",
    "        try:\n",
    "            x = input(\"Input number: \")\n",
    "            print(factorial(int(x)))\n",
    "        except ValueError:\n",
    "            break\n",
    "main()"
   ]
  },
  {
   "cell_type": "code",
   "execution_count": 6,
   "metadata": {},
   "outputs": [
    {
     "name": "stdout",
     "output_type": "stream",
     "text": [
      "[2, 3, 4] [2, 3, 4]\n"
     ]
    }
   ],
   "source": [
    "x = [2, 3, 4]\n",
    "print(x, end = \" \")\n",
    "print(x)"
   ]
  },
  {
   "cell_type": "code",
   "execution_count": 7,
   "metadata": {},
   "outputs": [
    {
     "name": "stdout",
     "output_type": "stream",
     "text": [
      "[2, 3, 4] [2, 3, 4]\n"
     ]
    }
   ],
   "source": [
    "x = range(2, 5)\n",
    "print(list(x), end = \" \")\n",
    "print(list(x))"
   ]
  },
  {
   "cell_type": "markdown",
   "metadata": {},
   "source": [
    "# Yield"
   ]
  },
  {
   "cell_type": "code",
   "execution_count": 12,
   "metadata": {},
   "outputs": [],
   "source": [
    "def f():\n",
    "    print(\"abc\")\n",
    "    yield 5\n",
    "    print(\"def\")\n",
    "    yield 6"
   ]
  },
  {
   "cell_type": "code",
   "execution_count": 34,
   "metadata": {},
   "outputs": [
    {
     "name": "stdout",
     "output_type": "stream",
     "text": [
      "abc\n",
      "5\n",
      "def\n",
      "6\n"
     ]
    }
   ],
   "source": [
    "v = f()\n",
    "w = next(v)\n",
    "print(w)\n",
    "w = next(v)\n",
    "print(w)"
   ]
  },
  {
   "cell_type": "markdown",
   "metadata": {},
   "source": [
    "## Generator\n",
    "> A function that produces a sequence of results instead of a single returned value"
   ]
  },
  {
   "cell_type": "code",
   "execution_count": 37,
   "metadata": {
    "scrolled": true
   },
   "outputs": [
    {
     "data": {
      "text/plain": [
       "[0, 1, 2, 3, 4, 5, 6, 7, 8, 9]"
      ]
     },
     "execution_count": 37,
     "metadata": {},
     "output_type": "execute_result"
    }
   ],
   "source": [
    "def yrange(n):\n",
    "    i = 0\n",
    "    while i < n:\n",
    "        yield i\n",
    "        i += 1\n",
    "        \n",
    "x = yrange(10)\n",
    "list(x)    "
   ]
  },
  {
   "cell_type": "markdown",
   "metadata": {},
   "source": [
    "> For loop solution"
   ]
  },
  {
   "cell_type": "code",
   "execution_count": 49,
   "metadata": {},
   "outputs": [
    {
     "data": {
      "text/plain": [
       "[8, 27]"
      ]
     },
     "execution_count": 49,
     "metadata": {},
     "output_type": "execute_result"
    }
   ],
   "source": [
    "def map_for(x, y):\n",
    "    for v in y :\n",
    "        yield x(v)\n",
    "        \n",
    "x = map_for(lambda x: x**3, [2,3])\n",
    "list(x)\n"
   ]
  },
  {
   "cell_type": "markdown",
   "metadata": {},
   "source": [
    "> Generator solution"
   ]
  },
  {
   "cell_type": "code",
   "execution_count": 92,
   "metadata": {},
   "outputs": [
    {
     "data": {
      "text/plain": [
       "[8, 27]"
      ]
     },
     "execution_count": 92,
     "metadata": {},
     "output_type": "execute_result"
    }
   ],
   "source": [
    "def map_gen(uf, a) :\n",
    "    return (uf(v) for v in a)\n",
    "\n",
    "y = map_gen(lambda x: x**3, [2,3])\n",
    "list(y)"
   ]
  },
  {
   "cell_type": "markdown",
   "metadata": {},
   "source": [
    "> Exhaustible solution"
   ]
  },
  {
   "cell_type": "code",
   "execution_count": 54,
   "metadata": {},
   "outputs": [
    {
     "name": "stderr",
     "output_type": "stream",
     "text": [
      "/anaconda3/lib/python3.6/site-packages/ipykernel_launcher.py:9: DeprecationWarning: generator 'map_while' raised StopIteration\n",
      "  if __name__ == '__main__':\n"
     ]
    },
    {
     "data": {
      "text/plain": [
       "[8, 27]"
      ]
     },
     "execution_count": 54,
     "metadata": {},
     "output_type": "execute_result"
    }
   ],
   "source": [
    "import sys\n",
    "\n",
    "def map_while(uf, a):\n",
    "    p = iter(a)\n",
    "    while True:\n",
    "        yield uf(next(p))\n",
    "        \n",
    "z = map_while(lambda x: x**3, [2,3])\n",
    "list(z)"
   ]
  },
  {
   "cell_type": "markdown",
   "metadata": {},
   "source": [
    "## Comprehensions"
   ]
  },
  {
   "cell_type": "code",
   "execution_count": 70,
   "metadata": {},
   "outputs": [],
   "source": [
    "from types import GeneratorType\n",
    "\n",
    "\n",
    "x = [2,3,4]\n",
    "y = []\n",
    "for v in x :\n",
    "    y += [v*5]\n",
    "assert x == [2,3,4]\n",
    "assert y == [10,15,20]\n",
    "\n",
    "\n",
    "x = [2,3,4]\n",
    "# One line refactor\n",
    "y = [v * 5 for v in x]\n",
    "assert isinstance(y, list)\n",
    "assert not hasattr(y, \"__next__\")\n",
    "assert hasattr(y, \"__iter__\")\n",
    "assert x == [2,3,4]\n",
    "assert y == [10,15,20]\n",
    "\n",
    "\n",
    "x =[2,3,4]\n",
    "# Makes y a Generator\n",
    "y = (v * 5 for v in x)\n",
    "assert isinstance(y, GeneratorType)\n",
    "assert hasattr(y, \"__next__\")\n",
    "assert hasattr(y, \"__iter__\")\n",
    "\n",
    "\n",
    "x = [2,3,4]\n",
    "# Uses map_gen function to make y a Generator\n",
    "y = map_gen(lambda v : v * 5, x)\n",
    "assert isinstance(y, GeneratorType)\n",
    "assert hasattr(y, \"__next__\")\n",
    "assert hasattr(y, \"__iter__\")\n",
    "assert x       == [2,   3,  4]\n",
    "assert list(y) == [10, 15, 20]\n",
    "assert list(y) == []\n",
    "\n",
    "\n",
    "x = [2, 3, 4, 5, 6]\n",
    "y = []\n",
    "# adds when v is odd\n",
    "for v in x :\n",
    "    if v % 2 :\n",
    "        y += [v * 5]\n",
    "assert x == [2,  3,  4,  5,  6]\n",
    "assert y == [   15,     25]\n",
    "\n",
    "\n",
    "x = [2, 3, 4, 5, 6]\n",
    "# Nested loops\n",
    "y = [v * 5 for v in x if v % 2]\n",
    "assert x == [ 2,  3,  4,  5,  6]\n",
    "assert y == [    15,     25]\n",
    "\n",
    "\n",
    "x = [2, 3, 4, 5, 6]\n",
    "# Filter function\n",
    "y = filter(lambda v : v % 2, x)\n",
    "assert isinstance(y, filter)\n",
    "assert hasattr(y, \"__next__\")\n",
    "assert hasattr(y, \"__iter__\")\n",
    "z = map(lambda v : v * 5, y)\n",
    "assert x       == [ 2,  3,  4,  5,  6]\n",
    "assert list(z) == [    15,     25]\n",
    "assert list(z) == []\n",
    "\n",
    "\n",
    "x = {2, 3, 4}\n",
    "y = set()\n",
    "for v in x :\n",
    "    y |= {v * 5}\n",
    "assert x == { 2,  3,  4}\n",
    "assert y == {10, 15, 20}\n",
    "\n",
    "\n",
    "x = {2, 3, 4}\n",
    "y = {v * 5 for v in x}   # set comprehension\n",
    "assert x == { 2,  3,  4}\n",
    "assert y == {10, 15, 20}\n",
    "\n",
    "x = {2 : \"abc\", 3 : \"def\", 4 : \"ghi\"}\n",
    "y = {k + 1: x[k] + \"xyz\" for k in x}                   # dict comprehension\n",
    "assert isinstance(y, dict)\n",
    "assert not hasattr(y, \"__next__\")\n",
    "assert     hasattr(y, \"__iter__\")\n",
    "assert x == {2 : \"abc\",    3 : \"def\",    4 : \"ghi\"}\n",
    "assert y == {3 : \"abcxyz\", 4 : \"defxyz\", 5 : \"ghixyz\"}\n",
    "\n",
    "\n",
    "a = [2, 3, 4]\n",
    "r = reversed(a)\n",
    "assert str(type(r)) == \"<class 'list_reverseiterator'>\"\n",
    "assert list(r) == [4, 3, 2]\n",
    "assert list(r) == []\n",
    "\n",
    "\n",
    "a = [\"abc\", \"def\", \"ghi\"]\n",
    "e = enumerate(a)\n",
    "assert str(type(e)) == \"<class 'enumerate'>\"\n",
    "assert list(e) == [(0, \"abc\"), (1, \"def\"), (2, \"ghi\")]\n",
    "assert list(e) == []\n",
    "\n",
    "\n",
    "a = [2, 3, 4]\n",
    "b = [5, 6, 7]\n",
    "z = zip(a, b)\n",
    "assert str(type(z)) == \"<class 'zip'>\"\n",
    "assert list(z) == [(2, 5), (3, 6), (4, 7)]\n",
    "assert list(z) == []\n",
    "\n",
    "\n",
    "a = [4, 2, 3]\n",
    "s = sorted(a)\n",
    "assert a == [4, 2, 3]\n",
    "assert s == [2, 3, 4]\n",
    "\n",
    "# Boolean comprehension\n",
    "class A :\n",
    "    pass\n",
    "\n",
    "# Passes everything\n",
    "assert all([])\n",
    "assert all([\n",
    "    A(),\n",
    "    True,\n",
    "    2,\n",
    "    3.45,\n",
    "    \"abc\",\n",
    "    [2, 3, 4],\n",
    "    (2, 3, 4),\n",
    "    {2, 3, 4},\n",
    "    {2 : \"abc\", 3 : \"def\", 4 : \"ghi\"}])\n",
    "\n",
    "class B :\n",
    "    def __bool__ (self) :\n",
    "        return False\n",
    "\n",
    "# Returns False always\n",
    "assert not any([])\n",
    "assert not any([B(), False, 0, 0.0,  \"\", [], (), set(), {}])"
   ]
  },
  {
   "cell_type": "markdown",
   "metadata": {},
   "source": [
    "## Function Unpacking\n",
    "> If you see * before function, it means unpacking (remove parenthesis, drop comma, and give values within"
   ]
  },
  {
   "cell_type": "code",
   "execution_count": 72,
   "metadata": {},
   "outputs": [],
   "source": [
    "def f (x, y, z) :\n",
    "    return [x, y, z]\n",
    "\n",
    "t = (3, 4)\n",
    "assert t            == (3, 4)\n",
    "assert t            != (4, 3)\n",
    "assert f(2, t, 5)   == [2, (3, 4), 5]\n",
    "assert f(2, 5, t)   == [2, 5, (3, 4)]\n",
    "# * operator\n",
    "assert f(2, *t)     == [2, 3, 4]\n",
    "assert f(z = 2, *t) == [3, 4, 2]\n",
    "assert f(*t, z = 2) == [3, 4, 2]"
   ]
  },
  {
   "cell_type": "markdown",
   "metadata": {},
   "source": [
    "## RMSE Example"
   ]
  },
  {
   "cell_type": "code",
   "execution_count": 75,
   "metadata": {},
   "outputs": [
    {
     "name": "stdout",
     "output_type": "stream",
     "text": [
      "0.0\n"
     ]
    }
   ],
   "source": [
    "from math import sqrt\n",
    "from numpy import sqrt, square, mean, subtract\n",
    "\n",
    "\n",
    "actual = 20 \n",
    "\n",
    "predictions = 20\n",
    "\n",
    "rmse = sqrt(mean(square(subtract(predictions, actual))))\n",
    "\n",
    "\n",
    "print(rmse)"
   ]
  },
  {
   "cell_type": "markdown",
   "metadata": {},
   "source": [
    "## RMSE Calculator"
   ]
  },
  {
   "cell_type": "code",
   "execution_count": 91,
   "metadata": {},
   "outputs": [
    {
     "name": "stdout",
     "output_type": "stream",
     "text": [
      "Input predicted: 10\n",
      "Input actual: 10\n",
      "RMSE:  0.0\n",
      "Input predicted: stop\n",
      "Input actual: stop\n"
     ]
    }
   ],
   "source": [
    "from math import sqrt\n",
    "from numpy import sqrt, square, mean, subtract\n",
    "import sys\n",
    "\n",
    "def rmse_eval(x, y):\n",
    "    predicted = int(x)\n",
    "    actual = int(y)\n",
    "    return sqrt(mean(square(subtract(predicted, actual))))\n",
    "\n",
    "\n",
    "def main():\n",
    "    while(True):\n",
    "        try:\n",
    "            x = input(\"Input predicted: \")\n",
    "            y = input(\"Input actual: \")\n",
    "            print(\"RMSE: \",rmse_eval(x, y))\n",
    "        except TypeError and ValueError:\n",
    "            break\n",
    "            \n",
    "main()"
   ]
  },
  {
   "cell_type": "markdown",
   "metadata": {},
   "source": [
    "## Mon Oct 15\n",
    "### Project 3\n",
    "* A series of 3 projects\n",
    "* You must form a team of 5 students\n",
    "* You must develop a website"
   ]
  },
  {
   "cell_type": "markdown",
   "metadata": {},
   "source": [
    "## Mon Oct 29\n",
    "\n",
    "### SQLAlchemy\n",
    "\n",
    "* You will test the database with UnitTests\n",
    "* "
   ]
  },
  {
   "cell_type": "code",
   "execution_count": null,
   "metadata": {},
   "outputs": [],
   "source": []
  }
 ],
 "metadata": {
  "kernelspec": {
   "display_name": "Python 3",
   "language": "python",
   "name": "python3"
  },
  "language_info": {
   "codemirror_mode": {
    "name": "ipython",
    "version": 3
   },
   "file_extension": ".py",
   "mimetype": "text/x-python",
   "name": "python",
   "nbconvert_exporter": "python",
   "pygments_lexer": "ipython3",
   "version": "3.6.4"
  }
 },
 "nbformat": 4,
 "nbformat_minor": 2
}
