{
 "cells": [
  {
   "cell_type": "markdown",
   "metadata": {
    "slideshow": {
     "slide_type": "slide"
    }
   },
   "source": [
    "<h3>Please note: credit for this perceptron notebook goes to Luis Martí!</h3> \n",
    "This is a modified version of: https://github.com/lmarti/machine-learning."
   ]
  },
  {
   "cell_type": "markdown",
   "metadata": {},
   "source": [
    "# Understanding the Perceptron"
   ]
  },
  {
   "cell_type": "markdown",
   "metadata": {
    "slideshow": {
     "slide_type": "slide"
    }
   },
   "source": [
    "In this notebook we are doing to study the [perceptron](https://en.wikipedia.org/wiki/Perceptron) and its learning algorithm.\n",
    "\n",
    "The perceptron is an algorithm for learning a binary classifier. That is a function that maps its input $\\newcommand{\\vec}[1]{\\mathbf{#1}}\\vec{x}\\in\\mathbb{R}^n$ (a real-valued vector) to an output value $f(\\vec{x})$ (a single binary value) as,\n",
    "\n",
    "$$\n",
    "f(\\vec{x}) = \\begin{cases}\n",
    "                1 & \\text{if }\\vec{w} \\cdot \\vec{x} + b > 0\\,,\\\\\n",
    "                0 & \\text{otherwise};\n",
    "             \\end{cases}\n",
    "$$\n",
    "\n",
    "where $\\vec{w}$ is a vector of real-valued *weights*, $\\vec{w} \\cdot \\vec{x}$ is the *dot product* $\\sum_{i=1}^n w_i x_i$, and $b$ is known as the *bias*. "
   ]
  },
  {
   "cell_type": "markdown",
   "metadata": {
    "slideshow": {
     "slide_type": "slide"
    }
   },
   "source": [
    "## Preparing the environment "
   ]
  },
  {
   "cell_type": "code",
   "execution_count": 1,
   "metadata": {
    "slideshow": {
     "slide_type": "slide"
    }
   },
   "outputs": [],
   "source": [
    "import numpy as np\n",
    "import pandas as pd\n",
    "import matplotlib.pyplot as plt\n",
    "%matplotlib inline\n",
    "\n",
    "import random, itertools\n",
    "random.seed(a=42)"
   ]
  },
  {
   "cell_type": "markdown",
   "metadata": {},
   "source": [
    "*Note*: I am fixing a given random seed to always have a the same result. You should not do this in practice (nor in the exercises of the class). "
   ]
  },
  {
   "cell_type": "markdown",
   "metadata": {
    "slideshow": {
     "slide_type": "slide"
    }
   },
   "source": [
    "## Implementing the Perceptron"
   ]
  },
  {
   "cell_type": "markdown",
   "metadata": {},
   "source": [
    "We are going to start implementing a perceptron as a class. \n",
    "\n",
    "*Note*: Bear in mind that I have made the implementation as clear and easy to follow as possible and, therefore, I have sacrificed performance in the sake of clarity. There are many points where it can be improved."
   ]
  },
  {
   "cell_type": "code",
   "execution_count": 3,
   "metadata": {
    "slideshow": {
     "slide_type": "slide"
    }
   },
   "outputs": [],
   "source": [
    "class Perceptron:\n",
    "    'A simple Perceptron implementation.'\n",
    "    def __init__(self, weights, bias, alpha=0.1):\n",
    "        self.weights = weights\n",
    "        self.bias = bias\n",
    "        self.alpha = alpha\n",
    "    \n",
    "    def propagate(self, x):\n",
    "        return self.activation(self.net(x)) \n",
    "        \n",
    "    def activation(self, net):\n",
    "        if net > 0:\n",
    "            return 1\n",
    "        return 0\n",
    "    \n",
    "    def net(self, x):\n",
    "        return np.dot(self.weights, x) + self.bias\n",
    "    \n",
    "    def learn(self, x, y):\n",
    "        y_hat = self.propagate(x)\n",
    "        self.weights = [w_i + self.alpha*x_i*(y-y_hat) for (w_i, x_i) in zip(self.weights, x)]\n",
    "        self.bias = self.bias + self.alpha*(y-y_hat)\n",
    "        return np.abs(y_hat - y)"
   ]
  },
  {
   "cell_type": "markdown",
   "metadata": {
    "slideshow": {
     "slide_type": "slide"
    }
   },
   "source": [
    "Perhaps the most tricky element of our `Perceptron` class is the `learn` method. \n",
    "\n",
    "It goes by calculating the prediction of the perceptron, $\\hat{y}$, as\n",
    "\n",
    "$$\\hat{y} = f[\\mathbf{w}\\cdot\\mathbf{x} + b] = f[ w_{1}x_{1} + w_2x_{2} + \\cdots + w_nx_{n}+b]\\,.$$\n",
    "\n",
    "After that, we update the weights and the bias using the perceptron rule:\n",
    "\n",
    "$$\n",
    "\\begin{align*}\n",
    "w_i & = w_i + \\alpha (y - \\hat{y}) x_{i} \\,,\\  i=1,\\ldots,n\\,;\\\\\n",
    "b & = b + \\alpha (y - \\hat{y})\\,.\n",
    "\\end{align*}\n",
    "$$\n",
    "\n",
    "Here $\\alpha\\in\\left(0,1\\right]$ is known as the *learning rate*."
   ]
  },
  {
   "cell_type": "markdown",
   "metadata": {
    "slideshow": {
     "slide_type": "slide"
    }
   },
   "source": [
    "## Preparing the data set\n",
    "\n",
    "After having the perceptron implementation ready we need an example data set.\n",
    "\n",
    "We are going to create a dataset containing random points such that $\\mathbf{x}\\in\\left[0,1\\right]^2$."
   ]
  },
  {
   "cell_type": "code",
   "execution_count": 4,
   "metadata": {},
   "outputs": [],
   "source": [
    "size = 50 # size of data set"
   ]
  },
  {
   "cell_type": "code",
   "execution_count": 5,
   "metadata": {},
   "outputs": [],
   "source": [
    "data = pd.DataFrame(columns=('$x_1$', '$x_2$'),\n",
    "                    data=np.random.uniform(size=(size,2)))"
   ]
  },
  {
   "cell_type": "markdown",
   "metadata": {
    "slideshow": {
     "slide_type": "slide"
    }
   },
   "source": [
    "So far, our data set looks like this (we are showning only the first ten elements):"
   ]
  },
  {
   "cell_type": "code",
   "execution_count": 6,
   "metadata": {},
   "outputs": [
    {
     "data": {
      "text/html": [
       "<div>\n",
       "<style scoped>\n",
       "    .dataframe tbody tr th:only-of-type {\n",
       "        vertical-align: middle;\n",
       "    }\n",
       "\n",
       "    .dataframe tbody tr th {\n",
       "        vertical-align: top;\n",
       "    }\n",
       "\n",
       "    .dataframe thead th {\n",
       "        text-align: right;\n",
       "    }\n",
       "</style>\n",
       "<table border=\"1\" class=\"dataframe\">\n",
       "  <thead>\n",
       "    <tr style=\"text-align: right;\">\n",
       "      <th></th>\n",
       "      <th>$x_1$</th>\n",
       "      <th>$x_2$</th>\n",
       "    </tr>\n",
       "  </thead>\n",
       "  <tbody>\n",
       "    <tr>\n",
       "      <th>0</th>\n",
       "      <td>0.839581</td>\n",
       "      <td>0.127600</td>\n",
       "    </tr>\n",
       "    <tr>\n",
       "      <th>1</th>\n",
       "      <td>0.743941</td>\n",
       "      <td>0.474677</td>\n",
       "    </tr>\n",
       "    <tr>\n",
       "      <th>2</th>\n",
       "      <td>0.670071</td>\n",
       "      <td>0.480409</td>\n",
       "    </tr>\n",
       "    <tr>\n",
       "      <th>3</th>\n",
       "      <td>0.951960</td>\n",
       "      <td>0.585091</td>\n",
       "    </tr>\n",
       "    <tr>\n",
       "      <th>4</th>\n",
       "      <td>0.888753</td>\n",
       "      <td>0.487457</td>\n",
       "    </tr>\n",
       "    <tr>\n",
       "      <th>5</th>\n",
       "      <td>0.236569</td>\n",
       "      <td>0.500029</td>\n",
       "    </tr>\n",
       "    <tr>\n",
       "      <th>6</th>\n",
       "      <td>0.325264</td>\n",
       "      <td>0.800509</td>\n",
       "    </tr>\n",
       "    <tr>\n",
       "      <th>7</th>\n",
       "      <td>0.551250</td>\n",
       "      <td>0.677657</td>\n",
       "    </tr>\n",
       "    <tr>\n",
       "      <th>8</th>\n",
       "      <td>0.112751</td>\n",
       "      <td>0.460751</td>\n",
       "    </tr>\n",
       "    <tr>\n",
       "      <th>9</th>\n",
       "      <td>0.768698</td>\n",
       "      <td>0.367334</td>\n",
       "    </tr>\n",
       "  </tbody>\n",
       "</table>\n",
       "</div>"
      ],
      "text/plain": [
       "      $x_1$     $x_2$\n",
       "0  0.839581  0.127600\n",
       "1  0.743941  0.474677\n",
       "2  0.670071  0.480409\n",
       "3  0.951960  0.585091\n",
       "4  0.888753  0.487457\n",
       "5  0.236569  0.500029\n",
       "6  0.325264  0.800509\n",
       "7  0.551250  0.677657\n",
       "8  0.112751  0.460751\n",
       "9  0.768698  0.367334"
      ]
     },
     "execution_count": 6,
     "metadata": {},
     "output_type": "execute_result"
    }
   ],
   "source": [
    "data.head(10)"
   ]
  },
  {
   "cell_type": "markdown",
   "metadata": {
    "slideshow": {
     "slide_type": "slide"
    }
   },
   "source": [
    "We need to add a *target* or *classification* attribute. In this example, we are going to make this target to be equal to one if the point lies in the upper-right triangle of the $\\left[0,1\\right]\\times\\left[0,1\\right]$ square and zero otherwise"
   ]
  },
  {
   "cell_type": "markdown",
   "metadata": {
    "slideshow": {
     "slide_type": "slide"
    }
   },
   "source": [
    "We can formalize this condition as:\n",
    "\n",
    "$$\n",
    "y = \\begin{cases}\n",
    "    1 & \\ \\text{if}\\ x_1 + x_2 > 1\\,,\\\\\n",
    "    0 & \\ \\text{otherwise}\\,.\n",
    "    \\end{cases}\n",
    "$$\n",
    "\n",
    "Lets code it..."
   ]
  },
  {
   "cell_type": "code",
   "execution_count": 7,
   "metadata": {},
   "outputs": [],
   "source": [
    "def condition(x):\n",
    "    return int(np.sum(x) > 1)"
   ]
  },
  {
   "cell_type": "markdown",
   "metadata": {},
   "source": [
    "...and apply this condition to the data set."
   ]
  },
  {
   "cell_type": "code",
   "execution_count": 8,
   "metadata": {},
   "outputs": [],
   "source": [
    "data['y'] = data.apply(condition, axis=1)"
   ]
  },
  {
   "cell_type": "markdown",
   "metadata": {
    "slideshow": {
     "slide_type": "slide"
    }
   },
   "source": [
    "The resulting data set looks like this:"
   ]
  },
  {
   "cell_type": "code",
   "execution_count": 9,
   "metadata": {},
   "outputs": [
    {
     "data": {
      "text/html": [
       "<div>\n",
       "<style scoped>\n",
       "    .dataframe tbody tr th:only-of-type {\n",
       "        vertical-align: middle;\n",
       "    }\n",
       "\n",
       "    .dataframe tbody tr th {\n",
       "        vertical-align: top;\n",
       "    }\n",
       "\n",
       "    .dataframe thead th {\n",
       "        text-align: right;\n",
       "    }\n",
       "</style>\n",
       "<table border=\"1\" class=\"dataframe\">\n",
       "  <thead>\n",
       "    <tr style=\"text-align: right;\">\n",
       "      <th></th>\n",
       "      <th>$x_1$</th>\n",
       "      <th>$x_2$</th>\n",
       "      <th>y</th>\n",
       "    </tr>\n",
       "  </thead>\n",
       "  <tbody>\n",
       "    <tr>\n",
       "      <th>0</th>\n",
       "      <td>0.839581</td>\n",
       "      <td>0.127600</td>\n",
       "      <td>0</td>\n",
       "    </tr>\n",
       "    <tr>\n",
       "      <th>1</th>\n",
       "      <td>0.743941</td>\n",
       "      <td>0.474677</td>\n",
       "      <td>1</td>\n",
       "    </tr>\n",
       "    <tr>\n",
       "      <th>2</th>\n",
       "      <td>0.670071</td>\n",
       "      <td>0.480409</td>\n",
       "      <td>1</td>\n",
       "    </tr>\n",
       "    <tr>\n",
       "      <th>3</th>\n",
       "      <td>0.951960</td>\n",
       "      <td>0.585091</td>\n",
       "      <td>1</td>\n",
       "    </tr>\n",
       "    <tr>\n",
       "      <th>4</th>\n",
       "      <td>0.888753</td>\n",
       "      <td>0.487457</td>\n",
       "      <td>1</td>\n",
       "    </tr>\n",
       "    <tr>\n",
       "      <th>5</th>\n",
       "      <td>0.236569</td>\n",
       "      <td>0.500029</td>\n",
       "      <td>0</td>\n",
       "    </tr>\n",
       "    <tr>\n",
       "      <th>6</th>\n",
       "      <td>0.325264</td>\n",
       "      <td>0.800509</td>\n",
       "      <td>1</td>\n",
       "    </tr>\n",
       "    <tr>\n",
       "      <th>7</th>\n",
       "      <td>0.551250</td>\n",
       "      <td>0.677657</td>\n",
       "      <td>1</td>\n",
       "    </tr>\n",
       "    <tr>\n",
       "      <th>8</th>\n",
       "      <td>0.112751</td>\n",
       "      <td>0.460751</td>\n",
       "      <td>0</td>\n",
       "    </tr>\n",
       "    <tr>\n",
       "      <th>9</th>\n",
       "      <td>0.768698</td>\n",
       "      <td>0.367334</td>\n",
       "      <td>1</td>\n",
       "    </tr>\n",
       "  </tbody>\n",
       "</table>\n",
       "</div>"
      ],
      "text/plain": [
       "      $x_1$     $x_2$  y\n",
       "0  0.839581  0.127600  0\n",
       "1  0.743941  0.474677  1\n",
       "2  0.670071  0.480409  1\n",
       "3  0.951960  0.585091  1\n",
       "4  0.888753  0.487457  1\n",
       "5  0.236569  0.500029  0\n",
       "6  0.325264  0.800509  1\n",
       "7  0.551250  0.677657  1\n",
       "8  0.112751  0.460751  0\n",
       "9  0.768698  0.367334  1"
      ]
     },
     "execution_count": 9,
     "metadata": {},
     "output_type": "execute_result"
    }
   ],
   "source": [
    "data.head(10)"
   ]
  },
  {
   "cell_type": "markdown",
   "metadata": {
    "slideshow": {
     "slide_type": "slide"
    }
   },
   "source": [
    "We can now take a better look at the data set in graphical form. Elements with $y=1$ are shown in red ($\\color{red}{\\bullet}$) and those with $y=0$ are shown in gray ($\\color{gray}{\\bullet}$):"
   ]
  },
  {
   "cell_type": "code",
   "execution_count": 10,
   "metadata": {},
   "outputs": [],
   "source": [
    "def plot_data(data, ax):\n",
    "    data[data.y==1].plot(kind='scatter', \n",
    "                         x='$x_1$', y='$x_2$', \n",
    "                         color='Red', ax=ax)\n",
    "    data[data.y==0].plot(kind='scatter', \n",
    "                         x='$x_1$', y='$x_2$', \n",
    "                         color='Gray', ax=ax)\n",
    "    ax.set_xlim(-0.1,1.1); ax.set_ylim(-0.1,1.1)"
   ]
  },
  {
   "cell_type": "code",
   "execution_count": 11,
   "metadata": {
    "slideshow": {
     "slide_type": "slide"
    }
   },
   "outputs": [
    {
     "data": {
      "image/png": "[encoded data removed]",
      "text/plain": [
       "<matplotlib.figure.Figure at 0x108d4f550>"
      ]
     },
     "metadata": {},
     "output_type": "display_data"
    }
   ],
   "source": [
    "fig = plt.figure(figsize=(5,5))\n",
    "ax = fig.gca()\n",
    "plot_data(data, ax)"
   ]
  },
  {
   "cell_type": "markdown",
   "metadata": {
    "slideshow": {
     "slide_type": "slide"
    }
   },
   "source": [
    "## Iterating the data set\n",
    "\n",
    "Having the data set we can now code how the perceptron learns it by iterating throu it."
   ]
  },
  {
   "cell_type": "code",
   "execution_count": 12,
   "metadata": {},
   "outputs": [],
   "source": [
    "def learn_data(perceptron, data):\n",
    "    'Returns the number of errors made.'\n",
    "    count = 0 \n",
    "    for i, row in data.iterrows():\n",
    "        count += perceptron.learn(row[0:2], row[2])\n",
    "    return count"
   ]
  },
  {
   "cell_type": "markdown",
   "metadata": {
    "slideshow": {
     "slide_type": "slide"
    }
   },
   "source": [
    "## Visualizing learning\n",
    "\n",
    "We need now to plot the decision boundary or threshold of the perceptron.\n",
    "\n",
    "To calculate it we start with the equation that describes the boundary,\n",
    "$$w_1x_1+w_2x_2 + b =0.$$\n",
    "\n",
    "From it we can obtain $x_2$ from a given $x_1$ applying a fairy simple math,\n",
    "$$x_2 = \\frac{-w_1x_1-b}{w_2}.$$"
   ]
  },
  {
   "cell_type": "code",
   "execution_count": 13,
   "metadata": {
    "slideshow": {
     "slide_type": "slide"
    }
   },
   "outputs": [],
   "source": [
    "def threshold(perceptron, x_1):\n",
    "    return (-perceptron.weights[0] * x_1 - perceptron.bias) / perceptron.weights[1]"
   ]
  },
  {
   "cell_type": "code",
   "execution_count": 14,
   "metadata": {},
   "outputs": [],
   "source": [
    "def plot_perceptron_threshold(perceptron, ax):\n",
    "    xlim = ax.get_xlim(); ylim = ax.get_ylim()\n",
    "    \n",
    "    x2s = [threshold(perceptron, x1) for x1 in xlim]\n",
    "    ax.plot(xlim, x2s)\n",
    "    \n",
    "    ax.set_xlim(-0.1,1.1); ax.set_ylim(-0.1,1.1)"
   ]
  },
  {
   "cell_type": "markdown",
   "metadata": {
    "slideshow": {
     "slide_type": "slide"
    }
   },
   "source": [
    "A function that plots a perceptron as the threshold and the data set."
   ]
  },
  {
   "cell_type": "code",
   "execution_count": 18,
   "metadata": {},
   "outputs": [],
   "source": [
    "def plot_all(perceptron, data, t, ax=None):\n",
    "    if ax==None:\n",
    "        fig = plt.figure(figsize=(5,4))\n",
    "        ax = fig.gca()\n",
    "    plot_data(data, ax)\n",
    "    plot_perceptron_threshold(perceptron, ax)\n",
    "    \n",
    "    ax.set_title('$t='+str(t+1)+'$')"
   ]
  },
  {
   "cell_type": "markdown",
   "metadata": {
    "slideshow": {
     "slide_type": "slide"
    }
   },
   "source": [
    "## Our perceptron in action\n",
    "\n",
    "All set now! Let's create a perceptron and train it. \n",
    "\n",
    "*Note*: Normally the initial weights and the bias should be set to *small* random values. I am setting them by hand to a value that I know that looks good in the examples."
   ]
  },
  {
   "cell_type": "code",
   "execution_count": 19,
   "metadata": {},
   "outputs": [],
   "source": [
    "perceptron = Perceptron([0.1,-0.1],0.1)"
   ]
  },
  {
   "cell_type": "code",
   "execution_count": 20,
   "metadata": {
    "slideshow": {
     "slide_type": "slide"
    }
   },
   "outputs": [
    {
     "data": {
      "image/png": "[encoded data removed]",
      "text/plain": [
       "<matplotlib.figure.Figure at 0x109e604a8>"
      ]
     },
     "metadata": {},
     "output_type": "display_data"
    }
   ],
   "source": [
    "f, axarr = plt.subplots(2, 3, sharex=True, sharey=True, figsize=(8,6))\n",
    "axs = list(itertools.chain.from_iterable(axarr))\n",
    "for t in range(6):\n",
    "    plot_all(perceptron, data, t, ax=axs[t])\n",
    "    learn_data(perceptron, data)\n",
    "f.tight_layout()"
   ]
  },
  {
   "cell_type": "markdown",
   "metadata": {},
   "source": [
    "It is clear how the Perceptron threshold is progresively adjusted according to the data set."
   ]
  }
 ],
 "metadata": {
  "kernelspec": {
   "display_name": "Python 3",
   "language": "python",
   "name": "python3"
  },
  "language_info": {
   "codemirror_mode": {
    "name": "ipython",
    "version": 3
   },
   "file_extension": ".py",
   "mimetype": "text/x-python",
   "name": "python",
   "nbconvert_exporter": "python",
   "pygments_lexer": "ipython3",
   "version": "3.6.4"
  }
 },
 "nbformat": 4,
 "nbformat_minor": 1
}
